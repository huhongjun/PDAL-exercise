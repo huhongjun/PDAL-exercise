{
 "cells": [
  {
   "cell_type": "code",
   "execution_count": 33,
   "metadata": {},
   "outputs": [],
   "source": [
    "ccode = [6, 16, 2, 5, 14, \n",
    "         3, 4, 8, 21, 23, \n",
    "         12, 19, 18, 20, 17,\n",
    "        15]\n",
    "cname = ['buildings','conductor','ground','high_vegetation','lake',\n",
    "         'low_vegetation','mid_vegetation','mkp_ground','other','other_line',\n",
    "         'road','scissors_crossing(down)','cz_1-9_scissors_crossing(up)','shield_wire','structures',\n",
    "         'substations']"
   ]
  },
  {
   "cell_type": "markdown",
   "metadata": {},
   "source": [
    "# 转换csv格式,赋值分类"
   ]
  },
  {
   "cell_type": "code",
   "execution_count": 32,
   "metadata": {},
   "outputs": [
    {
     "name": "stdout",
     "output_type": "stream",
     "text": [
      " - Code:  6, Name:                    cz_1-9_buildings.las, Count:      0 \n",
      " - Code: 16, Name:                    cz_1-9_conductor.las, Count:      0 \n",
      " - Code:  2, Name:                       cz_1-9_ground.las, Count:      0 \n",
      " - Code:  5, Name:              cz_1-9_high_vegetation.las, Count:      0 \n",
      " - Code: 14, Name:                         cz_1-9_lake.las, Count:      0 \n",
      " - Code:  3, Name:               cz_1-9_low_vegetation.las, Count:      0 \n",
      " - Code:  4, Name:               cz_1-9_mid_vegetation.las, Count:      0 \n",
      " - Code:  8, Name:                   cz_1-9_mkp_ground.las, Count:      0 \n",
      " - Code: 21, Name:                        cz_1-9_other.las, Count:      0 \n",
      " - Code: 23, Name:                   cz_1-9_other_line.las, Count:      0 \n",
      " - Code: 12, Name:                         cz_1-9_road.las, Count:      0 \n",
      " - Code: 19, Name:      cz_1-9_scissors_crossing(down).las, Count:      0 \n",
      " - Code: 18, Name: cz_1-9_cz_1-9_scissors_crossing(up).las, Count:      0 \n",
      " - Code: 20, Name:                  cz_1-9_shield_wire.las, Count:      0 \n",
      " - Code: 17, Name:                   cz_1-9_structures.las, Count:      0 \n",
      " - Code: 15, Name:                  cz_1-9_substations.las, Count:      0 \n"
     ]
    }
   ],
   "source": [
    "import pdal\n",
    "\n",
    "folder = \"cz_1-9\"\n",
    "for i in range(len(ccode)) :\n",
    "    filename = folder +'_'+ cname[i]\n",
    "    classification = ccode[i]\n",
    "    \n",
    "    json =  \"\"\"\n",
    "    {  \"pipeline\": [\n",
    "      { \"type\" : \"readers.las\", \"filename\" : \"%s\\\\input\\\\%s.las\"      },\n",
    "      { \"type\" : \"filters.assign\",  \"assignment\" : \"Classification[0:32]=%s\"      },\n",
    "      { \"type\" : \"writers.text\", \"format\": \"csv\", \"filename\" : \"%s\\\\output\\\\%s.csv\"      }  ]}\n",
    "      \"\"\" % (folder,filename,classification,folder,filename)\n",
    "    \n",
    "\n",
    "    print(\" - Code: %2d, Name: %35s.las, Count: %6d \" % (classification,filename,0))"
   ]
  },
  {
   "cell_type": "markdown",
   "metadata": {},
   "source": [
    "# 转换las格式,赋值分类"
   ]
  },
  {
   "cell_type": "code",
   "execution_count": 36,
   "metadata": {},
   "outputs": [
    {
     "name": "stdout",
     "output_type": "stream",
     "text": [
      " - Code:  6, Name:                    cz_1-9_buildings.las, Count: 319925 \n",
      " - Code: 16, Name:                    cz_1-9_conductor.las, Count:  71346 \n"
     ]
    }
   ],
   "source": [
    "import pdal\n",
    "\n",
    "folder = \"cz_1-9\"\n",
    "for i in range(2) :\n",
    "    filename = folder +'_'+ cname[i]\n",
    "    classification = ccode[i]\n",
    "    \n",
    "    json =  \"\"\"\n",
    "    {  \"pipeline\": [\n",
    "      { \"type\" : \"readers.las\", \"filename\" : \"%s\\\\\\\\input\\\\\\\\%s.las\"      },\n",
    "      { \"type\" : \"filters.assign\",  \"assignment\" : \"Classification[0:32]=%s\"      },\n",
    "      { \"type\" : \"writers.las\", \"filename\" : \"%s\\\\\\\\output\\\\\\\\%s.las\"      }  ]}\n",
    "      \"\"\" % (folder,filename,classification,folder,filename)\n",
    "    \n",
    "    pipeline = pdal.Pipeline(json)\n",
    "    pipeline.validate()        # check if our JSON and options were good\n",
    "    pipeline.loglevel = 8      #really noisy\n",
    "    count = pipeline.execute()    \n",
    "\n",
    "    print(\" - Code: %2d, Name: %35s.las, Count: %6d \" % (classification,filename,count))"
   ]
  },
  {
   "cell_type": "code",
   "execution_count": null,
   "metadata": {},
   "outputs": [],
   "source": [
    "    pipeline = pdal.Pipeline(json)\n",
    "    pipeline.validate()        # check if our JSON and options were good\n",
    "    pipeline.loglevel = 8      #really noisy\n",
    "    count = pipeline.execute()"
   ]
  }
 ],
 "metadata": {
  "kernelspec": {
   "display_name": "Python 3",
   "language": "python",
   "name": "python3"
  },
  "language_info": {
   "codemirror_mode": {
    "name": "ipython",
    "version": 3
   },
   "file_extension": ".py",
   "mimetype": "text/x-python",
   "name": "python",
   "nbconvert_exporter": "python",
   "pygments_lexer": "ipython3",
   "version": "3.5.4"
  }
 },
 "nbformat": 4,
 "nbformat_minor": 2
}
