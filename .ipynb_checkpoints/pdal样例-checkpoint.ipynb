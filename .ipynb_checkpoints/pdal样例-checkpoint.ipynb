{
 "cells": [
  {
   "cell_type": "markdown",
   "metadata": {},
   "source": [
    "# las转csv，指定dimension字段顺序，保留那些字段"
   ]
  },
  {
   "cell_type": "code",
   "execution_count": null,
   "metadata": {},
   "outputs": [],
   "source": [
    "json = \"\"\"\n",
    "{\n",
    "  \"pipeline\":[\n",
    "    {\n",
    "      \"type\":\"readers.las\",\n",
    "      \"filename\":\"PowerLine.las\"\n",
    "    },\n",
    "    {\n",
    "      \"type\":\"writers.text\",\n",
    "      \"format\":\"csv\",\n",
    "      \"order\":\"X,Y,Z,Red,Green,Blue,PointSourceId,ScanAngleRank,ScanDirectionFlag,NumberOfReturns,ReturnNumber,Intensity,Classification\",\n",
    "      \"keep_unspecified\":\"false\",\n",
    "      \"filename\":\"PowerLine.csv\"\n",
    "    }\n",
    "  ]\n",
    "}\n",
    "\"\"\""
   ]
  },
  {
   "cell_type": "code",
   "execution_count": 1,
   "metadata": {},
   "outputs": [],
   "source": [
    "json = \"\"\"\n",
    "{\n",
    "  \"pipeline\":[\n",
    "    {\n",
    "      \"type\":\"readers.las\",\n",
    "      \"filename\":\"pdal/exercises/translation/interesting.las\"\n",
    "    },\n",
    "    {\n",
    "      \"type\":\"writers.text\",\n",
    "      \"format\":\"geojson\",\n",
    "      \"order\":\"X,Y,Z\",\n",
    "      \"keep_unspecified\":\"false\",\n",
    "      \"filename\":\"interesting.txt\"\n",
    "    }\n",
    "  ]\n",
    "}\"\"\"\n",
    "\n",
    "json1 = \"\"\"\n",
    "{\n",
    "    \"pipeline\": [\n",
    "    \"1.2-with-color.las\",\n",
    "    {\n",
    "        \"type\": \"filters.sort\",\n",
    "        \"dimension\": \"X\"\n",
    "    }\n",
    "    ]\n",
    "}\"\"\""
   ]
  },
  {
   "cell_type": "code",
   "execution_count": null,
   "metadata": {},
   "outputs": [],
   "source": [
    "json_text2pcd = \"\"\"\n",
    "{\n",
    "  \"pipeline\":[\n",
    "    {\n",
    "      \"type\":\"readers.text\",\n",
    "      \"filename\":\"/media/huhongjun/DATA4/workshop_VSubST_LiDAR/deployL-LiDAR-Toolset/ws_LiDARML/Open3D-PointNet2-Semantic3D/dataset/semantic_raw/sg27_station1_intensity_rgb.txt\"\n",
    "    },\n",
    "    {\n",
    "      \"type\":\"writers.pcd\",\n",
    "      \"filename\":\"/media/huhongjun/DATA4/workshop_VSubST_LiDAR/deployL-LiDAR-Toolset/ws_LiDARML/Open3D-PointNet2-Semantic3D/dataset/semantic_raw/sg27_station1_intensity_rgb.pcd\"\n",
    "    }\n",
    "  ]\n",
    "}\n",
    "\"\"\""
   ]
  },
  {
   "cell_type": "code",
   "execution_count": 2,
   "metadata": {},
   "outputs": [
    {
     "data": {
      "text/plain": [
       "'{\\n  \"metadata\":\\n  {\\n    \"readers.las\":\\n    [\\n      {\\n        \"comp_spatialreference\": \"PROJCS[\\\\\"NAD_1983_Oregon_Statewide_Lambert_Feet_Intl\\\\\",GEOGCS[\\\\\"GCS_North_American_1983\\\\\",DATUM[\\\\\"D_North_American_1983\\\\\",SPHEROID[\\\\\"GRS_1980\\\\\",6378137,298.257222101]],PRIMEM[\\\\\"Greenwich\\\\\",0],UNIT[\\\\\"degree\\\\\",0.0174532925199433]],PROJECTION[\\\\\"Lambert_Conformal_Conic_2SP\\\\\"],PARAMETER[\\\\\"standard_parallel_1\\\\\",43],PARAMETER[\\\\\"standard_parallel_2\\\\\",45.5],PARAMETER[\\\\\"latitude_of_origin\\\\\",41.75],PARAMETER[\\\\\"central_meridian\\\\\",-120.5],PARAMETER[\\\\\"false_easting\\\\\",400000],PARAMETER[\\\\\"false_northing\\\\\",0],UNIT[\\\\\"foot\\\\\",0.3048,AUTHORITY[\\\\\"EPSG\\\\\",\\\\\"9002\\\\\"]]]\",\\n        \"compressed\": false,\\n        \"count\": 1065,\\n        \"creation_doy\": 145,\\n        \"creation_doy\":         {\\n          \"temp\": 145\\n        },\\n        \"creation_year\": 2012,\\n        \"creation_year\":         {\\n          \"temp\": 2012\\n        },\\n        \"dataformat_id\": 3,\\n        \"dataformat_id\":         {\\n          \"temp\": 3\\n        },\\n        \"dataoffset\": 1488,\\n        \"filesource_id\": 0,\\n        \"filesource_id\":         {\\n          \"temp\": 0\\n        },\\n        \"global_encoding\": 0,\\n        \"global_encoding\":         {\\n          \"temp\": 0\\n        },\\n        \"global_encoding_base64\": \"AAA=\",\\n        \"header_size\": 227,\\n        \"major_version\": 1,\\n        \"major_version\":         {\\n          \"temp\": 1\\n        },\\n        \"maxx\": 638982.55,\\n        \"maxy\": 853535.43,\\n        \"maxz\": 586.38,\\n        \"minor_version\": 2,\\n        \"minor_version\":         {\\n          \"temp\": 2\\n        },\\n        \"minx\": 635619.85,\\n        \"miny\": 848899.7,\\n        \"minz\": 406.59,\\n        \"offset_x\": 0,\\n        \"offset_x\":         {\\n          \"temp\": 0\\n        },\\n        \"offset_y\": 0,\\n        \"offset_y\":         {\\n          \"temp\": 0\\n        },\\n        \"offset_z\": 0,\\n        \"offset_z\":         {\\n          \"temp\": 0\\n        },\\n        \"project_id\": \"00000000-0000-0000-0000-000000000000\",\\n        \"project_id\":         {\\n          \"temp\": \"00000000-0000-0000-0000-000000000000\"\\n        },\\n        \"scale_x\": 0.010000000000000000208,\\n        \"scale_x\":         {\\n          \"temp\": 0.01\\n        },\\n        \"scale_y\": 0.010000000000000000208,\\n        \"scale_y\":         {\\n          \"temp\": 0.01\\n        },\\n        \"scale_z\": 0.010000000000000000208,\\n        \"scale_z\":         {\\n          \"temp\": 0.01\\n        },\\n        \"software_id\": \"HOBU-GENERATING\",\\n        \"software_id\":         {\\n          \"temp\": \"HOBU-GENERATING\"\\n        },\\n        \"spatialreference\": \"PROJCS[\\\\\"NAD_1983_Oregon_Statewide_Lambert_Feet_Intl\\\\\",GEOGCS[\\\\\"GCS_North_American_1983\\\\\",DATUM[\\\\\"D_North_American_1983\\\\\",SPHEROID[\\\\\"GRS_1980\\\\\",6378137,298.257222101]],PRIMEM[\\\\\"Greenwich\\\\\",0],UNIT[\\\\\"degree\\\\\",0.0174532925199433]],PROJECTION[\\\\\"Lambert_Conformal_Conic_2SP\\\\\"],PARAMETER[\\\\\"standard_parallel_1\\\\\",43],PARAMETER[\\\\\"standard_parallel_2\\\\\",45.5],PARAMETER[\\\\\"latitude_of_origin\\\\\",41.75],PARAMETER[\\\\\"central_meridian\\\\\",-120.5],PARAMETER[\\\\\"false_easting\\\\\",400000],PARAMETER[\\\\\"false_northing\\\\\",0],UNIT[\\\\\"foot\\\\\",0.3048,AUTHORITY[\\\\\"EPSG\\\\\",\\\\\"9002\\\\\"]]]\",\\n        \"srs\":\\n        {\\n          \"compoundwkt\": \"PROJCS[\\\\\"NAD_1983_Oregon_Statewide_Lambert_Feet_Intl\\\\\",GEOGCS[\\\\\"GCS_North_American_1983\\\\\",DATUM[\\\\\"D_North_American_1983\\\\\",SPHEROID[\\\\\"GRS_1980\\\\\",6378137,298.257222101]],PRIMEM[\\\\\"Greenwich\\\\\",0],UNIT[\\\\\"degree\\\\\",0.0174532925199433]],PROJECTION[\\\\\"Lambert_Conformal_Conic_2SP\\\\\"],PARAMETER[\\\\\"standard_parallel_1\\\\\",43],PARAMETER[\\\\\"standard_parallel_2\\\\\",45.5],PARAMETER[\\\\\"latitude_of_origin\\\\\",41.75],PARAMETER[\\\\\"central_meridian\\\\\",-120.5],PARAMETER[\\\\\"false_easting\\\\\",400000],PARAMETER[\\\\\"false_northing\\\\\",0],UNIT[\\\\\"foot\\\\\",0.3048,AUTHORITY[\\\\\"EPSG\\\\\",\\\\\"9002\\\\\"]]]\",\\n          \"horizontal\": \"PROJCS[\\\\\"NAD_1983_Oregon_Statewide_Lambert_Feet_Intl\\\\\",GEOGCS[\\\\\"GCS_North_American_1983\\\\\",DATUM[\\\\\"D_North_American_1983\\\\\",SPHEROID[\\\\\"GRS_1980\\\\\",6378137,298.257222101]],PRIMEM[\\\\\"Greenwich\\\\\",0],UNIT[\\\\\"degree\\\\\",0.0174532925199433]],PROJECTION[\\\\\"Lambert_Conformal_Conic_2SP\\\\\"],PARAMETER[\\\\\"standard_parallel_1\\\\\",43],PARAMETER[\\\\\"standard_parallel_2\\\\\",45.5],PARAMETER[\\\\\"latitude_of_origin\\\\\",41.75],PARAMETER[\\\\\"central_meridian\\\\\",-120.5],PARAMETER[\\\\\"false_easting\\\\\",400000],PARAMETER[\\\\\"false_northing\\\\\",0],UNIT[\\\\\"foot\\\\\",0.3048,AUTHORITY[\\\\\"EPSG\\\\\",\\\\\"9002\\\\\"]]]\",\\n          \"isgeocentric\": false,\\n          \"isgeographic\": false,\\n          \"prettycompoundwkt\": \"PROJCS[\\\\\"NAD_1983_Oregon_Statewide_Lambert_Feet_Intl\\\\\",    GEOGCS[\\\\\"GCS_North_American_1983\\\\\",        DATUM[\\\\\"D_North_American_1983\\\\\",            SPHEROID[\\\\\"GRS_1980\\\\\",6378137,298.257222101]],        PRIMEM[\\\\\"Greenwich\\\\\",0],        UNIT[\\\\\"degree\\\\\",0.0174532925199433]],    PROJECTION[\\\\\"Lambert_Conformal_Conic_2SP\\\\\"],    PARAMETER[\\\\\"standard_parallel_1\\\\\",43],    PARAMETER[\\\\\"standard_parallel_2\\\\\",45.5],    PARAMETER[\\\\\"latitude_of_origin\\\\\",41.75],    PARAMETER[\\\\\"central_meridian\\\\\",-120.5],    PARAMETER[\\\\\"false_easting\\\\\",400000],    PARAMETER[\\\\\"false_northing\\\\\",0],    UNIT[\\\\\"foot\\\\\",0.3048,        AUTHORITY[\\\\\"EPSG\\\\\",\\\\\"9002\\\\\"]]]\",\\n          \"prettywkt\": \"PROJCS[\\\\\"NAD_1983_Oregon_Statewide_Lambert_Feet_Intl\\\\\",    GEOGCS[\\\\\"GCS_North_American_1983\\\\\",        DATUM[\\\\\"D_North_American_1983\\\\\",            SPHEROID[\\\\\"GRS_1980\\\\\",6378137,298.257222101]],        PRIMEM[\\\\\"Greenwich\\\\\",0],        UNIT[\\\\\"degree\\\\\",0.0174532925199433]],    PROJECTION[\\\\\"Lambert_Conformal_Conic_2SP\\\\\"],    PARAMETER[\\\\\"standard_parallel_1\\\\\",43],    PARAMETER[\\\\\"standard_parallel_2\\\\\",45.5],    PARAMETER[\\\\\"latitude_of_origin\\\\\",41.75],    PARAMETER[\\\\\"central_meridian\\\\\",-120.5],    PARAMETER[\\\\\"false_easting\\\\\",400000],    PARAMETER[\\\\\"false_northing\\\\\",0],    UNIT[\\\\\"foot\\\\\",0.3048,        AUTHORITY[\\\\\"EPSG\\\\\",\\\\\"9002\\\\\"]]]\",\\n          \"proj4\": \"+proj=lcc +lat_1=43 +lat_2=45.5 +lat_0=41.75 +lon_0=-120.5 +x_0=121920 +y_0=0 +ellps=GRS80 +units=ft +no_defs\",\\n          \"units\":\\n          {\\n            \"horizontal\": \"foot\",\\n            \"vertical\": \"\"\\n          },\\n          \"vertical\": \"\",\\n          \"wkt\": \"PROJCS[\\\\\"NAD_1983_Oregon_Statewide_Lambert_Feet_Intl\\\\\",GEOGCS[\\\\\"GCS_North_American_1983\\\\\",DATUM[\\\\\"D_North_American_1983\\\\\",SPHEROID[\\\\\"GRS_1980\\\\\",6378137,298.257222101]],PRIMEM[\\\\\"Greenwich\\\\\",0],UNIT[\\\\\"degree\\\\\",0.0174532925199433]],PROJECTION[\\\\\"Lambert_Conformal_Conic_2SP\\\\\"],PARAMETER[\\\\\"standard_parallel_1\\\\\",43],PARAMETER[\\\\\"standard_parallel_2\\\\\",45.5],PARAMETER[\\\\\"latitude_of_origin\\\\\",41.75],PARAMETER[\\\\\"central_meridian\\\\\",-120.5],PARAMETER[\\\\\"false_easting\\\\\",400000],PARAMETER[\\\\\"false_northing\\\\\",0],UNIT[\\\\\"foot\\\\\",0.3048,AUTHORITY[\\\\\"EPSG\\\\\",\\\\\"9002\\\\\"]]]\"\\n        },\\n        \"system_id\": \"HOBU-SYSTEMID\",\\n        \"system_id\":         {\\n          \"temp\": \"HOBU-SYSTEMID\"\\n        },\\n        \"vlr_0\":\\n        [\\n          {\\n            \"data\": \"UE9MWUdPTigoNiAxNSwgMTAgMTAsIDIwIDEwLCAyNSAxNSwgMjUgMzUsIDE5IDQwLCAxMSA0MCwgNiAyNSwgNiAxNSkpCg==\",\\n            \"description\": \"A Polygon WKT entry\",\\n            \"record_id\": 1234,\\n            \"user_id\": \"hobu\"\\n          }\\n        ],\\n        \"vlr_1\":\\n        {\\n          \"data\": \"AQABAAAAFQAABAAAAQABAAEEAAABAAEAAgSxhywAAAAACAAAAQD\\\\/fwEIsYdqACwAAggAAAEA\\\\/38GCAAAAQCOIwgIAAABAP9\\\\/CQiwhwEABgALCLCHAQAHAA0IsIcBAAgAAAwAAAEA\\\\/38CDAAAAQD\\\\/fwMMAAABAAgABAwAAAEAKiMGDLCHAQACAAcMsIcBAAMADAywhwEAAQANDLCHAQAAAA4MsIcBAAQADwywhwEABQAAAAAAAAAAAA==\",\\n          \"description\": \"GeoTIFF GeoKeyDirectoryTag\",\\n          \"record_id\": 34735,\\n          \"user_id\": \"LASF_Projection\"\\n        },\\n        \"vlr_2\":\\n        {\\n          \"data\": \"AAAAAADgREAAAAAAACBewAAAAAAAgEVAAAAAAADARkD\\\\/\\\\/\\\\/\\\\/\\\\/\\\\/2kYQQAAAAAAAAAAAAAAQKZUWEGo+euUHaRyQAAAAAAAAAAA\",\\n          \"description\": \"GeoTIFF GeoDoubleParamsTag\",\\n          \"record_id\": 34736,\\n          \"user_id\": \"LASF_Projection\"\\n        },\\n        \"vlr_3\":\\n        {\\n          \"data\": \"TkFEXzE5ODNfT3JlZ29uX1N0YXRld2lkZV9MYW1iZXJ0X0ZlZXRfSW50bHxHQ1MgTmFtZSA9IEdDU19Ob3J0aF9BbWVyaWNhbl8xOTgzfERhdHVtID0gRF9Ob3J0aF9BbWVyaWNhbl8xOTgzfEVsbGlwc29pZCA9IEdSU18xOTgwfFByaW1lbSA9IEdyZWVud2ljaHx8AA==\",\\n          \"description\": \"GeoTIFF GeoAsciiParamsTag\",\\n          \"record_id\": 34737,\\n          \"user_id\": \"LASF_Projection\"\\n        },\\n        \"vlr_4\":\\n        {\\n          \"data\": \"UFJPSkNTWyJOQURfMTk4M19PcmVnb25fU3RhdGV3aWRlX0xhbWJlcnRfRmVldF9JbnRsIixHRU9HQ1NbIkdDU19Ob3J0aF9BbWVyaWNhbl8xOTgzIixEQVRVTVsiRF9Ob3J0aF9BbWVyaWNhbl8xOTgzIixTUEhFUk9JRFsiR1JTXzE5ODAiLDYzNzgxMzcuMCwyOTguMjU3MjIyMTAxXV0sUFJJTUVNWyJHcmVlbndpY2giLDAuMF0sVU5JVFsiRGVncmVlIiwwLjAxNzQ1MzI5MjUxOTk0MzI5NV1dLFBST0pFQ1RJT05bIkxhbWJlcnRfQ29uZm9ybWFsX0NvbmljXzJTUCJdLFBBUkFNRVRFUlsiRmFsc2VfRWFzdGluZyIsMTMxMjMzNS45NTgwMDUyNDldLFBBUkFNRVRFUlsiRmFsc2VfTm9ydGhpbmciLDAuMF0sUEFSQU1FVEVSWyJDZW50cmFsX01lcmlkaWFuIiwtMTIwLjVdLFBBUkFNRVRFUlsiU3RhbmRhcmRfUGFyYWxsZWxfMSIsNDMuMF0sUEFSQU1FVEVSWyJTdGFuZGFyZF9QYXJhbGxlbF8yIiw0NS41XSxQQVJBTUVURVJbIkxhdGl0dWRlX09mX09yaWdpbiIsNDEuNzVdLFVOSVRbIkZvb3QiLDAuMzA0OF1dAA==\",\\n          \"description\": \"OGR variant of OpenGIS WKT SRS\",\\n          \"record_id\": 2112,\\n          \"user_id\": \"liblas\"\\n        }\\n      },\\n      {\\n        \"comp_spatialreference\": \"PROJCS[\\\\\"NAD_1983_Oregon_Statewide_Lambert_Feet_Intl\\\\\",GEOGCS[\\\\\"GCS_North_American_1983\\\\\",DATUM[\\\\\"D_North_American_1983\\\\\",SPHEROID[\\\\\"GRS_1980\\\\\",6378137,298.257222101]],PRIMEM[\\\\\"Greenwich\\\\\",0],UNIT[\\\\\"degree\\\\\",0.0174532925199433]],PROJECTION[\\\\\"Lambert_Conformal_Conic_2SP\\\\\"],PARAMETER[\\\\\"standard_parallel_1\\\\\",43],PARAMETER[\\\\\"standard_parallel_2\\\\\",45.5],PARAMETER[\\\\\"latitude_of_origin\\\\\",41.75],PARAMETER[\\\\\"central_meridian\\\\\",-120.5],PARAMETER[\\\\\"false_easting\\\\\",400000],PARAMETER[\\\\\"false_northing\\\\\",0],UNIT[\\\\\"foot\\\\\",0.3048,AUTHORITY[\\\\\"EPSG\\\\\",\\\\\"9002\\\\\"]]]\",\\n        \"compressed\": false,\\n        \"count\": 1065,\\n        \"creation_doy\": 145,\\n        \"creation_year\": 2012,\\n        \"dataformat_id\": 3,\\n        \"dataoffset\": 1488,\\n        \"filesource_id\": 0,\\n        \"global_encoding\": 0,\\n        \"global_encoding_base64\": \"AAA=\",\\n        \"header_size\": 227,\\n        \"major_version\": 1,\\n        \"maxx\": 638982.55,\\n        \"maxy\": 853535.43,\\n        \"maxz\": 586.38,\\n        \"minor_version\": 2,\\n        \"minx\": 635619.85,\\n        \"miny\": 848899.7,\\n        \"minz\": 406.59,\\n        \"offset_x\": 0,\\n        \"offset_y\": 0,\\n        \"offset_z\": 0,\\n        \"project_id\": \"00000000-0000-0000-0000-000000000000\",\\n        \"scale_x\": 0.010000000000000000208,\\n        \"scale_y\": 0.010000000000000000208,\\n        \"scale_z\": 0.010000000000000000208,\\n        \"software_id\": \"HOBU-GENERATING\",\\n        \"spatialreference\": \"PROJCS[\\\\\"NAD_1983_Oregon_Statewide_Lambert_Feet_Intl\\\\\",GEOGCS[\\\\\"GCS_North_American_1983\\\\\",DATUM[\\\\\"D_North_American_1983\\\\\",SPHEROID[\\\\\"GRS_1980\\\\\",6378137,298.257222101]],PRIMEM[\\\\\"Greenwich\\\\\",0],UNIT[\\\\\"degree\\\\\",0.0174532925199433]],PROJECTION[\\\\\"Lambert_Conformal_Conic_2SP\\\\\"],PARAMETER[\\\\\"standard_parallel_1\\\\\",43],PARAMETER[\\\\\"standard_parallel_2\\\\\",45.5],PARAMETER[\\\\\"latitude_of_origin\\\\\",41.75],PARAMETER[\\\\\"central_meridian\\\\\",-120.5],PARAMETER[\\\\\"false_easting\\\\\",400000],PARAMETER[\\\\\"false_northing\\\\\",0],UNIT[\\\\\"foot\\\\\",0.3048,AUTHORITY[\\\\\"EPSG\\\\\",\\\\\"9002\\\\\"]]]\",\\n        \"srs\":\\n        {\\n          \"compoundwkt\": \"PROJCS[\\\\\"NAD_1983_Oregon_Statewide_Lambert_Feet_Intl\\\\\",GEOGCS[\\\\\"GCS_North_American_1983\\\\\",DATUM[\\\\\"D_North_American_1983\\\\\",SPHEROID[\\\\\"GRS_1980\\\\\",6378137,298.257222101]],PRIMEM[\\\\\"Greenwich\\\\\",0],UNIT[\\\\\"degree\\\\\",0.0174532925199433]],PROJECTION[\\\\\"Lambert_Conformal_Conic_2SP\\\\\"],PARAMETER[\\\\\"standard_parallel_1\\\\\",43],PARAMETER[\\\\\"standard_parallel_2\\\\\",45.5],PARAMETER[\\\\\"latitude_of_origin\\\\\",41.75],PARAMETER[\\\\\"central_meridian\\\\\",-120.5],PARAMETER[\\\\\"false_easting\\\\\",400000],PARAMETER[\\\\\"false_northing\\\\\",0],UNIT[\\\\\"foot\\\\\",0.3048,AUTHORITY[\\\\\"EPSG\\\\\",\\\\\"9002\\\\\"]]]\",\\n          \"horizontal\": \"PROJCS[\\\\\"NAD_1983_Oregon_Statewide_Lambert_Feet_Intl\\\\\",GEOGCS[\\\\\"GCS_North_American_1983\\\\\",DATUM[\\\\\"D_North_American_1983\\\\\",SPHEROID[\\\\\"GRS_1980\\\\\",6378137,298.257222101]],PRIMEM[\\\\\"Greenwich\\\\\",0],UNIT[\\\\\"degree\\\\\",0.0174532925199433]],PROJECTION[\\\\\"Lambert_Conformal_Conic_2SP\\\\\"],PARAMETER[\\\\\"standard_parallel_1\\\\\",43],PARAMETER[\\\\\"standard_parallel_2\\\\\",45.5],PARAMETER[\\\\\"latitude_of_origin\\\\\",41.75],PARAMETER[\\\\\"central_meridian\\\\\",-120.5],PARAMETER[\\\\\"false_easting\\\\\",400000],PARAMETER[\\\\\"false_northing\\\\\",0],UNIT[\\\\\"foot\\\\\",0.3048,AUTHORITY[\\\\\"EPSG\\\\\",\\\\\"9002\\\\\"]]]\",\\n          \"isgeocentric\": false,\\n          \"isgeographic\": false,\\n          \"prettycompoundwkt\": \"PROJCS[\\\\\"NAD_1983_Oregon_Statewide_Lambert_Feet_Intl\\\\\",    GEOGCS[\\\\\"GCS_North_American_1983\\\\\",        DATUM[\\\\\"D_North_American_1983\\\\\",            SPHEROID[\\\\\"GRS_1980\\\\\",6378137,298.257222101]],        PRIMEM[\\\\\"Greenwich\\\\\",0],        UNIT[\\\\\"degree\\\\\",0.0174532925199433]],    PROJECTION[\\\\\"Lambert_Conformal_Conic_2SP\\\\\"],    PARAMETER[\\\\\"standard_parallel_1\\\\\",43],    PARAMETER[\\\\\"standard_parallel_2\\\\\",45.5],    PARAMETER[\\\\\"latitude_of_origin\\\\\",41.75],    PARAMETER[\\\\\"central_meridian\\\\\",-120.5],    PARAMETER[\\\\\"false_easting\\\\\",400000],    PARAMETER[\\\\\"false_northing\\\\\",0],    UNIT[\\\\\"foot\\\\\",0.3048,        AUTHORITY[\\\\\"EPSG\\\\\",\\\\\"9002\\\\\"]]]\",\\n          \"prettywkt\": \"PROJCS[\\\\\"NAD_1983_Oregon_Statewide_Lambert_Feet_Intl\\\\\",    GEOGCS[\\\\\"GCS_North_American_1983\\\\\",        DATUM[\\\\\"D_North_American_1983\\\\\",            SPHEROID[\\\\\"GRS_1980\\\\\",6378137,298.257222101]],        PRIMEM[\\\\\"Greenwich\\\\\",0],        UNIT[\\\\\"degree\\\\\",0.0174532925199433]],    PROJECTION[\\\\\"Lambert_Conformal_Conic_2SP\\\\\"],    PARAMETER[\\\\\"standard_parallel_1\\\\\",43],    PARAMETER[\\\\\"standard_parallel_2\\\\\",45.5],    PARAMETER[\\\\\"latitude_of_origin\\\\\",41.75],    PARAMETER[\\\\\"central_meridian\\\\\",-120.5],    PARAMETER[\\\\\"false_easting\\\\\",400000],    PARAMETER[\\\\\"false_northing\\\\\",0],    UNIT[\\\\\"foot\\\\\",0.3048,        AUTHORITY[\\\\\"EPSG\\\\\",\\\\\"9002\\\\\"]]]\",\\n          \"proj4\": \"+proj=lcc +lat_1=43 +lat_2=45.5 +lat_0=41.75 +lon_0=-120.5 +x_0=121920 +y_0=0 +ellps=GRS80 +units=ft +no_defs\",\\n          \"units\":\\n          {\\n            \"horizontal\": \"foot\",\\n            \"vertical\": \"\"\\n          },\\n          \"vertical\": \"\",\\n          \"wkt\": \"PROJCS[\\\\\"NAD_1983_Oregon_Statewide_Lambert_Feet_Intl\\\\\",GEOGCS[\\\\\"GCS_North_American_1983\\\\\",DATUM[\\\\\"D_North_American_1983\\\\\",SPHEROID[\\\\\"GRS_1980\\\\\",6378137,298.257222101]],PRIMEM[\\\\\"Greenwich\\\\\",0],UNIT[\\\\\"degree\\\\\",0.0174532925199433]],PROJECTION[\\\\\"Lambert_Conformal_Conic_2SP\\\\\"],PARAMETER[\\\\\"standard_parallel_1\\\\\",43],PARAMETER[\\\\\"standard_parallel_2\\\\\",45.5],PARAMETER[\\\\\"latitude_of_origin\\\\\",41.75],PARAMETER[\\\\\"central_meridian\\\\\",-120.5],PARAMETER[\\\\\"false_easting\\\\\",400000],PARAMETER[\\\\\"false_northing\\\\\",0],UNIT[\\\\\"foot\\\\\",0.3048,AUTHORITY[\\\\\"EPSG\\\\\",\\\\\"9002\\\\\"]]]\"\\n        },\\n        \"system_id\": \"HOBU-SYSTEMID\",\\n        \"vlr_0\":\\n        [\\n          {\\n            \"data\": \"UE9MWUdPTigoNiAxNSwgMTAgMTAsIDIwIDEwLCAyNSAxNSwgMjUgMzUsIDE5IDQwLCAxMSA0MCwgNiAyNSwgNiAxNSkpCg==\",\\n            \"description\": \"A Polygon WKT entry\",\\n            \"record_id\": 1234,\\n            \"user_id\": \"hobu\"\\n          }\\n        ],\\n        \"vlr_1\":\\n        {\\n          \"data\": \"AQABAAAAFQAABAAAAQABAAEEAAABAAEAAgSxhywAAAAACAAAAQD\\\\/fwEIsYdqACwAAggAAAEA\\\\/38GCAAAAQCOIwgIAAABAP9\\\\/CQiwhwEABgALCLCHAQAHAA0IsIcBAAgAAAwAAAEA\\\\/38CDAAAAQD\\\\/fwMMAAABAAgABAwAAAEAKiMGDLCHAQACAAcMsIcBAAMADAywhwEAAQANDLCHAQAAAA4MsIcBAAQADwywhwEABQAAAAAAAAAAAA==\",\\n          \"description\": \"GeoTIFF GeoKeyDirectoryTag\",\\n          \"record_id\": 34735,\\n          \"user_id\": \"LASF_Projection\"\\n        },\\n        \"vlr_2\":\\n        {\\n          \"data\": \"AAAAAADgREAAAAAAACBewAAAAAAAgEVAAAAAAADARkD\\\\/\\\\/\\\\/\\\\/\\\\/\\\\/2kYQQAAAAAAAAAAAAAAQKZUWEGo+euUHaRyQAAAAAAAAAAA\",\\n          \"description\": \"GeoTIFF GeoDoubleParamsTag\",\\n          \"record_id\": 34736,\\n          \"user_id\": \"LASF_Projection\"\\n        },\\n        \"vlr_3\":\\n        {\\n          \"data\": \"TkFEXzE5ODNfT3JlZ29uX1N0YXRld2lkZV9MYW1iZXJ0X0ZlZXRfSW50bHxHQ1MgTmFtZSA9IEdDU19Ob3J0aF9BbWVyaWNhbl8xOTgzfERhdHVtID0gRF9Ob3J0aF9BbWVyaWNhbl8xOTgzfEVsbGlwc29pZCA9IEdSU18xOTgwfFByaW1lbSA9IEdyZWVud2ljaHx8AA==\",\\n          \"description\": \"GeoTIFF GeoAsciiParamsTag\",\\n          \"record_id\": 34737,\\n          \"user_id\": \"LASF_Projection\"\\n        },\\n        \"vlr_4\":\\n        {\\n          \"data\": \"UFJPSkNTWyJOQURfMTk4M19PcmVnb25fU3RhdGV3aWRlX0xhbWJlcnRfRmVldF9JbnRsIixHRU9HQ1NbIkdDU19Ob3J0aF9BbWVyaWNhbl8xOTgzIixEQVRVTVsiRF9Ob3J0aF9BbWVyaWNhbl8xOTgzIixTUEhFUk9JRFsiR1JTXzE5ODAiLDYzNzgxMzcuMCwyOTguMjU3MjIyMTAxXV0sUFJJTUVNWyJHcmVlbndpY2giLDAuMF0sVU5JVFsiRGVncmVlIiwwLjAxNzQ1MzI5MjUxOTk0MzI5NV1dLFBST0pFQ1RJT05bIkxhbWJlcnRfQ29uZm9ybWFsX0NvbmljXzJTUCJdLFBBUkFNRVRFUlsiRmFsc2VfRWFzdGluZyIsMTMxMjMzNS45NTgwMDUyNDldLFBBUkFNRVRFUlsiRmFsc2VfTm9ydGhpbmciLDAuMF0sUEFSQU1FVEVSWyJDZW50cmFsX01lcmlkaWFuIiwtMTIwLjVdLFBBUkFNRVRFUlsiU3RhbmRhcmRfUGFyYWxsZWxfMSIsNDMuMF0sUEFSQU1FVEVSWyJTdGFuZGFyZF9QYXJhbGxlbF8yIiw0NS41XSxQQVJBTUVURVJbIkxhdGl0dWRlX09mX09yaWdpbiIsNDEuNzVdLFVOSVRbIkZvb3QiLDAuMzA0OF1dAA==\",\\n          \"description\": \"OGR variant of OpenGIS WKT SRS\",\\n          \"record_id\": 2112,\\n          \"user_id\": \"liblas\"\\n        }\\n      }\\n    ],\\n    \"writers.text\":\\n    [\\n      {\\n      },\\n      {\\n        \"filename\":\\n        [\\n          \"interesting.txt\"\\n        ]\\n      }\\n    ]\\n  }\\n}\\n'"
      ]
     },
     "execution_count": 2,
     "metadata": {},
     "output_type": "execute_result"
    }
   ],
   "source": [
    "# 转换为文本格式 geojson\n",
    "\n",
    "import pdal\n",
    "\n",
    "json = \n",
    "\n",
    "pipeline = pdal.Pipeline(json)\n",
    "pipeline.validate() # check if our JSON and options were good\n",
    "pipeline.loglevel = 8 #really noisy\n",
    "count = pipeline.execute()\n",
    "arrays = pipeline.arrays\n",
    "metadata = pipeline.metadata\n",
    "log = pipeline.log\n",
    "metadata"
   ]
  },
  {
   "cell_type": "code",
   "execution_count": 6,
   "metadata": {},
   "outputs": [
    {
     "data": {
      "text/plain": [
       "{'pipeline': ['file.las', 'output.las']}"
      ]
     },
     "execution_count": 6,
     "metadata": {},
     "output_type": "execute_result"
    }
   ],
   "source": [
    "# 简单转换\n",
    "\n",
    "json =\"\"\"\n",
    "{\n",
    "\"pipeline\":[\n",
    "\"file.las\",\n",
    "\"output.las\"\n",
    "]\n",
    "}\"\"\""
   ]
  },
  {
   "cell_type": "code",
   "execution_count": 7,
   "metadata": {},
   "outputs": [],
   "source": [
    "json = \"\"\"\n",
    "{\n",
    "  \"pipeline\": [\n",
    "      {\n",
    "            \"type\" : \"readers.las\",\n",
    "            \"filename\" : \"cz_1-9\\\\input\\\\cz_1-9_conductor.las\"\n",
    "      },\n",
    "      {\n",
    "          \"type\" : \"filters.assign\",\n",
    "          \"assignment\" : \"Classification[0:32]=16\"\n",
    "      },\n",
    "      {\n",
    "          \"type\" : \"writers.text\",\n",
    "          \"format\": \"csv\",\n",
    "          \"filename\" : \"cz_1-9\\\\output\\\\cz_1-9_conductor.csv\"\n",
    "      }\n",
    "  ]\n",
    "}\"\"\"\n",
    "\n"
   ]
  },
  {
   "cell_type": "code",
   "execution_count": 14,
   "metadata": {},
   "outputs": [
    {
     "name": "stdout",
     "output_type": "stream",
     "text": [
      "319888\n",
      "71346\n",
      "9951379\n",
      "4412925\n"
     ]
    },
    {
     "ename": "KeyboardInterrupt",
     "evalue": "",
     "output_type": "error",
     "traceback": [
      "\u001b[1;31m---------------------------------------------------------------------------\u001b[0m",
      "\u001b[1;31mKeyboardInterrupt\u001b[0m                         Traceback (most recent call last)",
      "\u001b[1;32m<ipython-input-14-5d121381fae6>\u001b[0m in \u001b[0;36m<module>\u001b[1;34m\u001b[0m\n\u001b[0;32m     27\u001b[0m     \u001b[1;31m# print(json)\u001b[0m\u001b[1;33m\u001b[0m\u001b[1;33m\u001b[0m\u001b[0m\n\u001b[0;32m     28\u001b[0m     \u001b[0mpipeline\u001b[0m \u001b[1;33m=\u001b[0m \u001b[0mpdal\u001b[0m\u001b[1;33m.\u001b[0m\u001b[0mPipeline\u001b[0m\u001b[1;33m(\u001b[0m\u001b[0mjson\u001b[0m\u001b[1;33m)\u001b[0m\u001b[1;33m\u001b[0m\u001b[0m\n\u001b[1;32m---> 29\u001b[1;33m     \u001b[0mpipeline\u001b[0m\u001b[1;33m.\u001b[0m\u001b[0mvalidate\u001b[0m\u001b[1;33m(\u001b[0m\u001b[1;33m)\u001b[0m \u001b[1;31m# check if our JSON and options were good\u001b[0m\u001b[1;33m\u001b[0m\u001b[0m\n\u001b[0m\u001b[0;32m     30\u001b[0m     \u001b[0mpipeline\u001b[0m\u001b[1;33m.\u001b[0m\u001b[0mloglevel\u001b[0m \u001b[1;33m=\u001b[0m \u001b[1;36m8\u001b[0m \u001b[1;31m#really noisy\u001b[0m\u001b[1;33m\u001b[0m\u001b[0m\n\u001b[0;32m     31\u001b[0m     \u001b[0mcount\u001b[0m \u001b[1;33m=\u001b[0m \u001b[0mpipeline\u001b[0m\u001b[1;33m.\u001b[0m\u001b[0mexecute\u001b[0m\u001b[1;33m(\u001b[0m\u001b[1;33m)\u001b[0m\u001b[1;33m\u001b[0m\u001b[0m\n",
      "\u001b[1;31mKeyboardInterrupt\u001b[0m: "
     ]
    }
   ],
   "source": [
    "ccode = [6, 16, 2, 5, 14, 3, 4, 8, 12, 17]\n",
    "cname = ['buildings','conductor','ground','high_vegetation','lake','low_vegetation','mid_vegetation','mkp_ground','road','structures']\n",
    "folder = \"cz_1-9\"\n",
    "\n",
    "import pdal\n",
    "\n",
    "for i in range(10) :\n",
    "    code = ccode[i]\n",
    "    name = folder +'_'+ cname[i]\n",
    "    json =  \"\"\"{\n",
    "  \"pipeline\": [\n",
    "      {\n",
    "            \"type\" : \"readers.las\",\n",
    "            \"filename\" : \"cz_1-9\\\\\\\\input\\\\\\\\%s.las\"\n",
    "      },\n",
    "      {\n",
    "          \"type\" : \"filters.assign\",\n",
    "          \"assignment\" : \"Classification[0:32]=%s\"\n",
    "      },\n",
    "      {\n",
    "          \"type\" : \"writers.text\",\n",
    "          \"format\": \"csv\",\n",
    "          \"filename\" : \"cz_1-9\\\\\\\\output\\\\\\\\%s.csv\"\n",
    "      }\n",
    "  ]\n",
    "}\"\"\" % (name,code,name)\n",
    "    # print(json)\n",
    "    pipeline = pdal.Pipeline(json)\n",
    "    pipeline.validate() # check if our JSON and options were good\n",
    "    pipeline.loglevel = 8 #really noisy\n",
    "    count = pipeline.execute()\n",
    "    print(count)"
   ]
  },
  {
   "cell_type": "code",
   "execution_count": 1,
   "metadata": {},
   "outputs": [],
   "source": [
    "#!/usr/bin/env python\n",
    "\n",
    "pipeline=\"\"\"{\n",
    "  \"pipeline\": [\n",
    "    {\n",
    "        \"type\": \"readers.las\",\n",
    "        \"filename\": \"https://github.com/PDAL/data/blob/master/autzen/stadium-utm.laz?raw=true\"\n",
    "    },\n",
    "    {\n",
    "        \"type\": \"filters.sort\",\n",
    "        \"dimension\": \"Z\"\n",
    "    }\n",
    "  ]\n",
    "}\"\"\""
   ]
  },
  {
   "cell_type": "code",
   "execution_count": 2,
   "metadata": {},
   "outputs": [
    {
     "ename": "RuntimeError",
     "evalue": "Unable to open stream for 'https://github.com/PDAL/data/blob/master/autzen/stadium-utm.laz?raw=true' with error 'Invalid argument'",
     "output_type": "error",
     "traceback": [
      "\u001b[1;31m---------------------------------------------------------------------------\u001b[0m",
      "\u001b[1;31mRuntimeError\u001b[0m                              Traceback (most recent call last)",
      "\u001b[1;32m<ipython-input-2-2acb1bbd9091>\u001b[0m in \u001b[0;36m<module>\u001b[1;34m\u001b[0m\n\u001b[0;32m      1\u001b[0m \u001b[1;32mimport\u001b[0m \u001b[0mpdal\u001b[0m\u001b[1;33m\u001b[0m\u001b[0m\n\u001b[0;32m      2\u001b[0m \u001b[0mr\u001b[0m \u001b[1;33m=\u001b[0m \u001b[0mpdal\u001b[0m\u001b[1;33m.\u001b[0m\u001b[0mPipeline\u001b[0m\u001b[1;33m(\u001b[0m\u001b[0mpipeline\u001b[0m\u001b[1;33m)\u001b[0m\u001b[1;33m\u001b[0m\u001b[0m\n\u001b[1;32m----> 3\u001b[1;33m \u001b[0mr\u001b[0m\u001b[1;33m.\u001b[0m\u001b[0mvalidate\u001b[0m\u001b[1;33m(\u001b[0m\u001b[1;33m)\u001b[0m\u001b[1;33m\u001b[0m\u001b[0m\n\u001b[0m\u001b[0;32m      4\u001b[0m \u001b[0mr\u001b[0m\u001b[1;33m.\u001b[0m\u001b[0mexecute\u001b[0m\u001b[1;33m(\u001b[0m\u001b[1;33m)\u001b[0m\u001b[1;33m\u001b[0m\u001b[0m\n\u001b[0;32m      5\u001b[0m \u001b[0marrays\u001b[0m \u001b[1;33m=\u001b[0m \u001b[0mr\u001b[0m\u001b[1;33m.\u001b[0m\u001b[0marrays\u001b[0m\u001b[1;33m\u001b[0m\u001b[0m\n",
      "\u001b[1;32md:\\miniconda3\\envs\\pdal3.5\\lib\\site-packages\\pdal\\pipeline.py\u001b[0m in \u001b[0;36mvalidate\u001b[1;34m(self)\u001b[0m\n\u001b[0;32m     40\u001b[0m \u001b[1;33m\u001b[0m\u001b[0m\n\u001b[0;32m     41\u001b[0m     \u001b[1;32mdef\u001b[0m \u001b[0mvalidate\u001b[0m\u001b[1;33m(\u001b[0m\u001b[0mself\u001b[0m\u001b[1;33m)\u001b[0m\u001b[1;33m:\u001b[0m\u001b[1;33m\u001b[0m\u001b[0m\n\u001b[1;32m---> 42\u001b[1;33m         \u001b[1;32mreturn\u001b[0m \u001b[0mself\u001b[0m\u001b[1;33m.\u001b[0m\u001b[0mp\u001b[0m\u001b[1;33m.\u001b[0m\u001b[0mvalidate\u001b[0m\u001b[1;33m(\u001b[0m\u001b[1;33m)\u001b[0m\u001b[1;33m\u001b[0m\u001b[0m\n\u001b[0m\u001b[0;32m     43\u001b[0m \u001b[1;33m\u001b[0m\u001b[0m\n\u001b[0;32m     44\u001b[0m     \u001b[1;32mdef\u001b[0m \u001b[0mget_arrays\u001b[0m\u001b[1;33m(\u001b[0m\u001b[0mself\u001b[0m\u001b[1;33m)\u001b[0m\u001b[1;33m:\u001b[0m\u001b[1;33m\u001b[0m\u001b[0m\n",
      "\u001b[1;32mpdal\\libpdalpython.pyx\u001b[0m in \u001b[0;36mpdal.libpdalpython.PyPipeline.validate\u001b[1;34m()\u001b[0m\n",
      "\u001b[1;31mRuntimeError\u001b[0m: Unable to open stream for 'https://github.com/PDAL/data/blob/master/autzen/stadium-utm.laz?raw=true' with error 'Invalid argument'"
     ]
    }
   ],
   "source": [
    "import pdal\n",
    "r = pdal.Pipeline(pipeline)\n",
    "r.validate()\n",
    "r.execute()\n",
    "arrays = r.arrays"
   ]
  },
  {
   "cell_type": "code",
   "execution_count": null,
   "metadata": {},
   "outputs": [],
   "source": []
  },
  {
   "cell_type": "code",
   "execution_count": null,
   "metadata": {},
   "outputs": [],
   "source": [
    "import matplotlib\n",
    "matplotlib.use('Agg')\n",
    "import matplotlib.pyplot as plt\n",
    "import matplotlib.mlab as mlab\n",
    "from io import BytesIO\n",
    "\n",
    "def make_plot(dimensions, filename, dpi=300):\n",
    "    figure_position = 1\n",
    "    row = 1\n",
    "    fig = plt.figure(figure_position, figsize=(6, 8.5), dpi=dpi)\n",
    "    keys = dimensions.dtype.fields.keys()\n",
    "\n",
    "    for key in keys:\n",
    "        dimension = dimensions[key]\n",
    "        ax = fig.add_subplot(len(keys), 1, row)\n",
    "\n",
    "        n, bins, patches = ax.hist( dimension, 30,\n",
    "                                    normed=0,\n",
    "                                    facecolor='grey',\n",
    "                                    alpha=0.75,\n",
    "                                    align='mid',\n",
    "                                    histtype='stepfilled',\n",
    "                                    linewidth=None)\n",
    "\n",
    "        ax.set_ylabel(key, size=10, rotation='horizontal')\n",
    "        ax.get_xaxis().set_visible(False)\n",
    "        ax.set_yticklabels('')\n",
    "        ax.set_yticks((),)\n",
    "        ax.set_xlim(min(dimension), max(dimension))\n",
    "        ax.set_ylim(min(n), max(n))\n",
    "        row = row + 1\n",
    "        figure_position = figure_position + 1\n",
    "    output = BytesIO()\n",
    "    plt.savefig(output,format=\"PNG\")\n",
    "\n",
    "    o = open(filename, 'wb')\n",
    "    o.write(output.getvalue())\n",
    "    o.close()\n",
    "    return True\n",
    "\n",
    "\n",
    "make_plot(arrays[0], 'histogram.png')"
   ]
  },
  {
   "cell_type": "code",
   "execution_count": null,
   "metadata": {},
   "outputs": [],
   "source": []
  }
 ],
 "metadata": {
  "kernelspec": {
   "display_name": "Python3.7(pdal)\n",
   "language": "python",
   "name": "pdal"
  },
  "language_info": {
   "codemirror_mode": {
    "name": "ipython",
    "version": 3
   },
   "file_extension": ".py",
   "mimetype": "text/x-python",
   "name": "python",
   "nbconvert_exporter": "python",
   "pygments_lexer": "ipython3",
   "version": "3.7.2"
  }
 },
 "nbformat": 4,
 "nbformat_minor": 2
}
