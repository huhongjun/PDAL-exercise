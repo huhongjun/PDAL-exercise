{
 "cells": [
  {
   "cell_type": "markdown",
   "metadata": {},
   "source": [
    "用于处理煜邦电力的已分类按类别分割导出文件。\n",
    "目录结构：\n",
    "* workshop/cz_1-9/input   待处理las文件\n",
    "* workshop/cz_1-9/output  加入类别后的las文件\n",
    "* workshop/cz_1-9/other   合并或切割的las、csv文件\n",
    "\n",
    "ToDo   \n",
    "* 文件列表相关生成，可以直接用文件系统的列表listdir来做；\n",
    "* linux与windows文件路径间隔符不一致\n",
    "\n",
    "针对煜邦电力，一段电力通道点云分好类之后，按地物分类拆解成数字文件，文件数量不固定，因为某些区段可能没有某个类别"
   ]
  },
  {
   "cell_type": "code",
   "execution_count": 1,
   "metadata": {},
   "outputs": [
    {
     "name": "stdout",
     "output_type": "stream",
     "text": [
      "/media/huhongjun/DATA4/workshop_VSubST_LiDAR/deployL-LiDAR-Toolset/ws_PDAL/GitHub-PDAL-exercise\r\n"
     ]
    }
   ],
   "source": [
    "!pwd"
   ]
  },
  {
   "cell_type": "code",
   "execution_count": 6,
   "metadata": {},
   "outputs": [],
   "source": [
    "# 此处去掉了地面点【2,ground】，手动写好待处理文件列表与分类列表\n",
    "\n",
    "datadir='workshop'\n",
    "\n",
    "classification = [(6,'buildings'), (16,'conductor'), (5,'high_vegetation'), \n",
    "         (14,'lake'), (3,'low_vegetation'), (4,'mid_vegetation'), \n",
    "         (8,'mkp_ground'), (21,'other'), (23,'other_line'), \n",
    "         (12,'road'), (19,'scissors_crossing(down)'), (18,'scissors_crossing(up)'), \n",
    "         (20,'shield_wire'), (17,'structures'), (15,'substations')]\n",
    "\n",
    "def runpipe(pljson):\n",
    "    pipeline = pdal.Pipeline(pljson)\n",
    "    pipeline.validate()        # check if our JSON and options were good\n",
    "    pipeline.loglevel = 8      #really noisy\n",
    "    count = pipeline.execute() \n",
    "    arrays = [] #pipeline.arrays\n",
    "    metadata = pipeline.metadata\n",
    "    log = pipeline.log\n",
    "    \n",
    "    return (count,arrays,metadata,log)"
   ]
  },
  {
   "cell_type": "code",
   "execution_count": 3,
   "metadata": {},
   "outputs": [
    {
     "name": "stdout",
     "output_type": "stream",
     "text": [
      "\n",
      "    {  \"pipeline\": [\n",
      "      { \"type\" : \"readers.las\", \"filename\" : \"workshop/cz_1-9/input/cz_1-9_buildings.las\"      },\n",
      "      { \"type\" : \"filters.assign\",  \"assignment\" : \"Classification[0:32]=6\"      },\n",
      "      { \"type\" : \"writers.las\", \"filename\" : \"workshop/cz_1-9/output/cz_1-9_06.las\"      }  ]}\n",
      "      \n",
      "\n",
      "    {  \"pipeline\": [\n",
      "      { \"type\" : \"readers.las\", \"filename\" : \"workshop/cz_1-9/input/cz_1-9_conductor.las\"      },\n",
      "      { \"type\" : \"filters.assign\",  \"assignment\" : \"Classification[0:32]=16\"      },\n",
      "      { \"type\" : \"writers.las\", \"filename\" : \"workshop/cz_1-9/output/cz_1-9_16.las\"      }  ]}\n",
      "      \n",
      "\n",
      "    {  \"pipeline\": [\n",
      "      { \"type\" : \"readers.las\", \"filename\" : \"workshop/cz_1-9/input/cz_1-9_high_vegetation.las\"      },\n",
      "      { \"type\" : \"filters.assign\",  \"assignment\" : \"Classification[0:32]=5\"      },\n",
      "      { \"type\" : \"writers.las\", \"filename\" : \"workshop/cz_1-9/output/cz_1-9_05.las\"      }  ]}\n",
      "      \n",
      "\n",
      "    {  \"pipeline\": [\n",
      "      { \"type\" : \"readers.las\", \"filename\" : \"workshop/cz_1-9/input/cz_1-9_lake.las\"      },\n",
      "      { \"type\" : \"filters.assign\",  \"assignment\" : \"Classification[0:32]=14\"      },\n",
      "      { \"type\" : \"writers.las\", \"filename\" : \"workshop/cz_1-9/output/cz_1-9_14.las\"      }  ]}\n",
      "      \n",
      "\n",
      "    {  \"pipeline\": [\n",
      "      { \"type\" : \"readers.las\", \"filename\" : \"workshop/cz_1-9/input/cz_1-9_low_vegetation.las\"      },\n",
      "      { \"type\" : \"filters.assign\",  \"assignment\" : \"Classification[0:32]=3\"      },\n",
      "      { \"type\" : \"writers.las\", \"filename\" : \"workshop/cz_1-9/output/cz_1-9_03.las\"      }  ]}\n",
      "      \n",
      "\n",
      "    {  \"pipeline\": [\n",
      "      { \"type\" : \"readers.las\", \"filename\" : \"workshop/cz_1-9/input/cz_1-9_mid_vegetation.las\"      },\n",
      "      { \"type\" : \"filters.assign\",  \"assignment\" : \"Classification[0:32]=4\"      },\n",
      "      { \"type\" : \"writers.las\", \"filename\" : \"workshop/cz_1-9/output/cz_1-9_04.las\"      }  ]}\n",
      "      \n",
      "\n",
      "    {  \"pipeline\": [\n",
      "      { \"type\" : \"readers.las\", \"filename\" : \"workshop/cz_1-9/input/cz_1-9_mkp_ground.las\"      },\n",
      "      { \"type\" : \"filters.assign\",  \"assignment\" : \"Classification[0:32]=8\"      },\n",
      "      { \"type\" : \"writers.las\", \"filename\" : \"workshop/cz_1-9/output/cz_1-9_08.las\"      }  ]}\n",
      "      \n",
      "\n",
      "    {  \"pipeline\": [\n",
      "      { \"type\" : \"readers.las\", \"filename\" : \"workshop/cz_1-9/input/cz_1-9_other.las\"      },\n",
      "      { \"type\" : \"filters.assign\",  \"assignment\" : \"Classification[0:32]=21\"      },\n",
      "      { \"type\" : \"writers.las\", \"filename\" : \"workshop/cz_1-9/output/cz_1-9_21.las\"      }  ]}\n",
      "      \n",
      "\n",
      "    {  \"pipeline\": [\n",
      "      { \"type\" : \"readers.las\", \"filename\" : \"workshop/cz_1-9/input/cz_1-9_other_line.las\"      },\n",
      "      { \"type\" : \"filters.assign\",  \"assignment\" : \"Classification[0:32]=23\"      },\n",
      "      { \"type\" : \"writers.las\", \"filename\" : \"workshop/cz_1-9/output/cz_1-9_23.las\"      }  ]}\n",
      "      \n",
      "\n",
      "    {  \"pipeline\": [\n",
      "      { \"type\" : \"readers.las\", \"filename\" : \"workshop/cz_1-9/input/cz_1-9_road.las\"      },\n",
      "      { \"type\" : \"filters.assign\",  \"assignment\" : \"Classification[0:32]=12\"      },\n",
      "      { \"type\" : \"writers.las\", \"filename\" : \"workshop/cz_1-9/output/cz_1-9_12.las\"      }  ]}\n",
      "      \n",
      "\n",
      "    {  \"pipeline\": [\n",
      "      { \"type\" : \"readers.las\", \"filename\" : \"workshop/cz_1-9/input/cz_1-9_scissors_crossing(down).las\"      },\n",
      "      { \"type\" : \"filters.assign\",  \"assignment\" : \"Classification[0:32]=19\"      },\n",
      "      { \"type\" : \"writers.las\", \"filename\" : \"workshop/cz_1-9/output/cz_1-9_19.las\"      }  ]}\n",
      "      \n",
      "\n",
      "    {  \"pipeline\": [\n",
      "      { \"type\" : \"readers.las\", \"filename\" : \"workshop/cz_1-9/input/cz_1-9_scissors_crossing(up).las\"      },\n",
      "      { \"type\" : \"filters.assign\",  \"assignment\" : \"Classification[0:32]=18\"      },\n",
      "      { \"type\" : \"writers.las\", \"filename\" : \"workshop/cz_1-9/output/cz_1-9_18.las\"      }  ]}\n",
      "      \n",
      "\n",
      "    {  \"pipeline\": [\n",
      "      { \"type\" : \"readers.las\", \"filename\" : \"workshop/cz_1-9/input/cz_1-9_shield_wire.las\"      },\n",
      "      { \"type\" : \"filters.assign\",  \"assignment\" : \"Classification[0:32]=20\"      },\n",
      "      { \"type\" : \"writers.las\", \"filename\" : \"workshop/cz_1-9/output/cz_1-9_20.las\"      }  ]}\n",
      "      \n",
      "\n",
      "    {  \"pipeline\": [\n",
      "      { \"type\" : \"readers.las\", \"filename\" : \"workshop/cz_1-9/input/cz_1-9_structures.las\"      },\n",
      "      { \"type\" : \"filters.assign\",  \"assignment\" : \"Classification[0:32]=17\"      },\n",
      "      { \"type\" : \"writers.las\", \"filename\" : \"workshop/cz_1-9/output/cz_1-9_17.las\"      }  ]}\n",
      "      \n",
      "\n",
      "    {  \"pipeline\": [\n",
      "      { \"type\" : \"readers.las\", \"filename\" : \"workshop/cz_1-9/input/cz_1-9_substations.las\"      },\n",
      "      { \"type\" : \"filters.assign\",  \"assignment\" : \"Classification[0:32]=15\"      },\n",
      "      { \"type\" : \"writers.las\", \"filename\" : \"workshop/cz_1-9/output/cz_1-9_15.las\"      }  ]}\n",
      "      \n"
     ]
    }
   ],
   "source": [
    "import os\n",
    "import pdal\n",
    "\n",
    "# 1. 按文件名赋值分类\n",
    "folder = \"cz_1-9\"\n",
    "\n",
    "fnlist = []\n",
    "for i in range(len(classification)) :\n",
    "    classcode, classname = classification[i]\n",
    "    \n",
    "    fnin = os.path.join(datadir,folder,'input',\"%s_%s.las\"%(folder,classname))\n",
    "    fnout = os.path.join(datadir,folder,'output',\"{}_{:0>2d}.las\".format(folder,classcode))\n",
    "    fnlist.append('\"'+fnout+'\"')\n",
    "    \n",
    "    json =  \"\"\"\n",
    "    {  \"pipeline\": [\n",
    "      { \"type\" : \"readers.las\", \"filename\" : \"%s\"      },\n",
    "      { \"type\" : \"filters.assign\",  \"assignment\" : \"Classification[0:32]=%s\"      },\n",
    "      { \"type\" : \"writers.las\", \"filename\" : \"%s\"      }  ]}\n",
    "      \"\"\" % (fnin,classcode,fnout)\n",
    "    print(json)\n",
    "    \n",
    "    #count,arrays,metdata,log = runpipe(json)\n",
    "    #print(\"%2d - Code: %2d, Name: %35s.las, Count: %6d \" % (i,classcode,fnout,count))"
   ]
  },
  {
   "cell_type": "code",
   "execution_count": 4,
   "metadata": {},
   "outputs": [
    {
     "name": "stdout",
     "output_type": "stream",
     "text": [
      "/media/huhongjun/DATA4/workshop_VSubST_LiDAR/deployL-LiDAR-Toolset/ws_PDAL/GitHub-PDAL-exercise\r\n"
     ]
    }
   ],
   "source": [
    "!pwd"
   ]
  },
  {
   "cell_type": "code",
   "execution_count": 6,
   "metadata": {},
   "outputs": [
    {
     "name": "stdout",
     "output_type": "stream",
     "text": [
      "{\n",
      "  \"pipeline\": [\"workshop/cz_1-9/output/cz_1-9_06.las\",\"workshop/cz_1-9/output/cz_1-9_16.las\",\"workshop/cz_1-9/output/cz_1-9_05.las\",\"workshop/cz_1-9/output/cz_1-9_14.las\",\"workshop/cz_1-9/output/cz_1-9_03.las\",\"workshop/cz_1-9/output/cz_1-9_04.las\",\"workshop/cz_1-9/output/cz_1-9_08.las\",\"workshop/cz_1-9/output/cz_1-9_21.las\",\"workshop/cz_1-9/output/cz_1-9_23.las\",\"workshop/cz_1-9/output/cz_1-9_12.las\",\"workshop/cz_1-9/output/cz_1-9_19.las\",\"workshop/cz_1-9/output/cz_1-9_18.las\",\"workshop/cz_1-9/output/cz_1-9_20.las\",\"workshop/cz_1-9/output/cz_1-9_17.las\",\"workshop/cz_1-9/output/cz_1-9_15.las\",\n",
      "    {\n",
      "      \"type\": \"filters.merge\"\n",
      "    },\n",
      "    \"workshop/cz_1-9/other/cz_1-9_merge_all.las\"\n",
      "  ]\n",
      "}\n",
      "\n",
      "Count: 22545111, log:  \n"
     ]
    }
   ],
   "source": [
    "# las文件合并\n",
    "\n",
    "fnin = ','.join(fnlist)\n",
    "fnout = os.path.join(datadir,folder,'other',\"{0}_{1}.las\".format(folder,'merge_all'))\n",
    "\n",
    "json_merge = \"\"\"{\n",
    "  \"pipeline\": [%s,\n",
    "    {\n",
    "      \"type\": \"filters.merge\"\n",
    "    },\n",
    "    \"%s\"\n",
    "  ]\n",
    "}\n",
    "\"\"\" % (fnin,fnout)\n",
    "\n",
    "print(json_merge)\n",
    "#count,arrays,metdata,log = runpipe(json_merge)\n",
    "#print(\"Count: %6d, log: %s \" % (count, log))"
   ]
  },
  {
   "cell_type": "code",
   "execution_count": 7,
   "metadata": {},
   "outputs": [
    {
     "ename": "AttributeError",
     "evalue": "'list' object has no attribute 'head'",
     "output_type": "error",
     "traceback": [
      "\u001b[0;31m---------------------------------------------------------------------------\u001b[0m",
      "\u001b[0;31mAttributeError\u001b[0m                            Traceback (most recent call last)",
      "\u001b[0;32m<ipython-input-7-ce9593593396>\u001b[0m in \u001b[0;36m<module>\u001b[0;34m\u001b[0m\n\u001b[0;32m----> 1\u001b[0;31m \u001b[0marrays\u001b[0m\u001b[0;34m.\u001b[0m\u001b[0mhead\u001b[0m\u001b[0;34m(\u001b[0m\u001b[0;34m)\u001b[0m\u001b[0;34m\u001b[0m\u001b[0;34m\u001b[0m\u001b[0m\n\u001b[0m",
      "\u001b[0;31mAttributeError\u001b[0m: 'list' object has no attribute 'head'"
     ]
    }
   ],
   "source": [
    "#import pandas as pd\n",
    "\n",
    "#df = pd.DataFrame(arrays)\n",
    "#df.head()"
   ]
  },
  {
   "cell_type": "code",
   "execution_count": null,
   "metadata": {},
   "outputs": [],
   "source": [
    "# las文件分拆，按长度大小 =》有些拆出来的文件很小，并不是平均比例\n",
    "\n",
    "fnin = os.path.join(datadir,folder,'other',\"{0}_{1}.las\".format(folder,'merge_all'))\n",
    "fnout = os.path.join(datadir,folder,'other',\"{0}_{1}.las\".format(folder,'merge_all_splitter_#'))\n",
    "\n",
    "json_splitter = \"\"\"\n",
    "{\n",
    "    \"pipeline\":\n",
    "        [\n",
    "            \"%s\",\n",
    "            {\n",
    "                \"type\":\"filters.splitter\",\n",
    "                \"length\":\"2000\"\n",
    "            },\n",
    "            {\n",
    "                \"type\":\"writers.las\",\n",
    "                \"filename\":\"%s\"\n",
    "            }\n",
    "        ]\n",
    "}\n",
    "\"\"\"% (fnin,fnout)\n",
    "\n",
    "print(json_splitter)"
   ]
  },
  {
   "cell_type": "code",
   "execution_count": 5,
   "metadata": {},
   "outputs": [
    {
     "name": "stdout",
     "output_type": "stream",
     "text": [
      "\n",
      "{\n",
      "    \"pipeline\":\n",
      "        [\n",
      "            \"workshop/cz_1-9/other/cz_1-9_merge_all.las\",\n",
      "            {\n",
      "                \"type\":\"filters.divider\",\n",
      "                \"count\":\"3\"\n",
      "            },\n",
      "            {\n",
      "                \"type\":\"writers.las\",\n",
      "                \"filename\":\"workshop/cz_1-9/other/cz_1-9_merge_all_divider_#.las\"\n",
      "            }\n",
      "        ]\n",
      "}\n",
      "\n",
      "Count: 22545111, log:  \n"
     ]
    }
   ],
   "source": [
    "# las文件分拆，按分拆文件数量,基本上点数均分，但空间上都有\n",
    "\n",
    "fnin = os.path.join(datadir,folder,'other',\"{0}_{1}.las\".format(folder,'merge_all'))\n",
    "fnout = os.path.join(datadir,folder,'other',\"{0}_{1}.las\".format(folder,'merge_all_divider_#'))\n",
    "\n",
    "json_divide = \"\"\"\n",
    "{\n",
    "    \"pipeline\":\n",
    "        [\n",
    "            \"%s\",\n",
    "            {\n",
    "                \"type\":\"filters.divider\",\n",
    "                \"count\":\"3\"\n",
    "            },\n",
    "            {\n",
    "                \"type\":\"writers.las\",\n",
    "                \"filename\":\"%s\"\n",
    "            }\n",
    "        ]\n",
    "}\n",
    "\"\"\" % (fnin,fnout)\n",
    "\n",
    "json = json_divide\n",
    "\n",
    "print(json)\n",
    "count,arrays,metdata,log = runpipe(json)\n",
    "print(\"Count: %6d, log: %s \" % (count, log))"
   ]
  },
  {
   "cell_type": "code",
   "execution_count": 9,
   "metadata": {},
   "outputs": [
    {
     "name": "stdout",
     "output_type": "stream",
     "text": [
      "\n",
      "{\n",
      "    \"pipeline\":\n",
      "        [\n",
      "            \"workshop/cz_1-9/other/cz_1-9_merge_all.las\",\n",
      "            {\n",
      "                \"type\":\"filters.chipper\",\n",
      "                \"capacity\":\"8000000\"\n",
      "            },\n",
      "            {\n",
      "                \"type\":\"writers.las\",\n",
      "                \"filename\":\"workshop/cz_1-9/other/cz_1-9_merge_all_chipper_#.las\"\n",
      "            }\n",
      "        ]\n",
      "}\n",
      "\n",
      "Count: 22545111, log:  \n"
     ]
    }
   ],
   "source": [
    "# las切片，可以设定文件包含点数量的最大值，得到的切片是空间连续，容量等于或小于设定,也是比较等分\n",
    "\n",
    "fnin = os.path.join(datadir,folder,'other',\"{0}_{1}.las\".format(folder,'merge_all'))\n",
    "fnout = os.path.join(datadir,folder,'other',\"{0}_{1}.las\".format(folder,'merge_all_chipper_#'))\n",
    "\n",
    "json_chipper = \"\"\"\n",
    "{\n",
    "    \"pipeline\":\n",
    "        [\n",
    "            \"%s\",\n",
    "            {\n",
    "                \"type\":\"filters.chipper\",\n",
    "                \"capacity\":\"8000000\"\n",
    "            },\n",
    "            {\n",
    "                \"type\":\"writers.las\",\n",
    "                \"filename\":\"%s\"\n",
    "            }\n",
    "        ]\n",
    "}\n",
    "\"\"\"% (fnin,fnout)\n",
    "\n",
    "json = json_chipper\n",
    "\n",
    "print(json)\n",
    "count,arrays,metdata,log = runpipe(json)\n",
    "print(\"Count: %6d, log: %s \" % (count, log))"
   ]
  },
  {
   "cell_type": "code",
   "execution_count": null,
   "metadata": {},
   "outputs": [],
   "source": [
    "# 按三维网格下采样，分类和RGB信息会丢失\n",
    "\n",
    "json_voxelgrid = \"\"\"\n",
    "{\n",
    "    \"pipeline\":\n",
    "        [\n",
    "            \"workshop\\\\\\\\cz_1-9\\\\\\\\output\\\\\\\\cz_1-9_merge_chipper_3.las\",\n",
    "            {\n",
    "                \"type\":\"filters.voxelgrid\",\n",
    "                \"leaf_z\":\"0.4\"\n",
    "            },\n",
    "            {\n",
    "                \"type\":\"writers.las\",\n",
    "                \"filename\":\"workshop\\\\\\\\cz_1-9\\\\\\\\output\\\\\\\\cz_1-9_merge_chipper_3_voxelgrid_04.las\"\n",
    "            }\n",
    "        ]\n",
    "}\n",
    "\"\"\"\n",
    "\n",
    "print(json_voxelgrid)"
   ]
  },
  {
   "cell_type": "markdown",
   "metadata": {},
   "source": [
    "## 选择一个类别的json，执行过滤操作"
   ]
  },
  {
   "cell_type": "code",
   "execution_count": null,
   "metadata": {},
   "outputs": [],
   "source": [
    "import pdal\n",
    "\n",
    "json = json_merge\n",
    "\n",
    "pipeline = pdal.Pipeline(json)\n",
    "pipeline.validate()        # check if our JSON and options were good\n",
    "pipeline.loglevel = 8      #really noisy\n",
    "count = pipeline.execute()"
   ]
  }
 ],
 "metadata": {
  "kernelspec": {
   "display_name": "Python3.7(pdal)\n",
   "language": "python",
   "name": "pdal"
  },
  "language_info": {
   "codemirror_mode": {
    "name": "ipython",
    "version": 3
   },
   "file_extension": ".py",
   "mimetype": "text/x-python",
   "name": "python",
   "nbconvert_exporter": "python",
   "pygments_lexer": "ipython3",
   "version": "3.7.2"
  }
 },
 "nbformat": 4,
 "nbformat_minor": 2
}
